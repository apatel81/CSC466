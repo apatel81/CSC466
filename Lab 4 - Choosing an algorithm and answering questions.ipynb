{
 "cells": [
  {
   "cell_type": "markdown",
   "metadata": {},
   "source": [
    "# Name(s)\n",
    "**Ethan Moore and Ajay Patel**"
   ]
  },
  {
   "cell_type": "markdown",
   "metadata": {},
   "source": [
    "## Should we grade this notebook? (Answer yes or no)"
   ]
  },
  {
   "cell_type": "markdown",
   "metadata": {},
   "source": [
    "YES"
   ]
  },
  {
   "cell_type": "markdown",
   "metadata": {},
   "source": [
    "**Instructions:** Pair programming assignment. Submit only a single notebook unless you deviate significantly after lab on Thursday. If you submit individually, make sure you indicate who you worked with originally. Make sure to include your first and last names. For those students who push to individual repos but still work in groups, please indicate which notebook should be graded."
   ]
  },
  {
   "cell_type": "markdown",
   "metadata": {},
   "source": [
    "# Ensemble Learning and Perceptron\n",
    "\n",
    "## Lab Assignment\n",
    "\n",
    "This is a pair programming assignment. I strongly\n",
    "discourage individual work for this (and other team/pair programming) lab(s), even if you think you can do it\n",
    "all by yourself. Also, this is a pair programming assignment, not a ”work in teams of two” assignment. Pair\n",
    "programming requires joint work on all aspects of the project without delegating portions of the work to individual\n",
    "1\n",
    "team members. For this lab, I want all your work — discussion, software development, analysis of the results,\n",
    "report writing — to be products of joint work.\n",
    "Students enrolled in the class can pair with other students enrolled in the class. Students on the waitlist can\n",
    "pair with other students on the waitlists. In the cases of ”odd person out” situations, a team of three people can\n",
    "be formed, but that team must (a) ask and answer one additional question, and (b) work as a pair would, without\n",
    "delegation of any work off-line."
   ]
  },
  {
   "cell_type": "markdown",
   "metadata": {},
   "source": [
    "## At the end of this lab, I should be able to\n",
    "* Formulate your own questions and understand how you can go about getting answers\n",
    "* Understand how to select an algorithm for your task\n",
    "* Implement ensemble methods gradient boosting and random forest"
   ]
  },
  {
   "cell_type": "markdown",
   "metadata": {},
   "source": [
    "## Our data\n",
    "We will be using a well known housing dataset from Boston.\n",
    "<pre>\n",
    "The Boston house-price data of Harrison, D. and Rubinfeld, D.L. 'Hedonic\n",
    " prices and the demand for clean air', J. Environ. Economics & Management,\n",
    " vol.5, 81-102, 1978.   Used in Belsley, Kuh & Welsch, 'Regression diagnostics\n",
    " ...', Wiley, 1980.   N.B. Various transformations are used in the table on\n",
    " pages 244-261 of the latter.\n",
    "\n",
    " Variables in order:\n",
    " CRIM     per capita crime rate by town\n",
    " ZN       proportion of residential land zoned for lots over 25,000 sq.ft.\n",
    " INDUS    proportion of non-retail business acres per town\n",
    " CHAS     Charles River dummy variable (= 1 if tract bounds river; 0 otherwise)\n",
    " NOX      nitric oxides concentration (parts per 10 million)\n",
    " RM       average number of rooms per dwelling\n",
    " AGE      proportion of owner-occupied units built prior to 1940\n",
    " DIS      weighted distances to five Boston employment centres\n",
    " RAD      index of accessibility to radial highways\n",
    " TAX      full-value property-tax rate per $10,000\n",
    " PTRATIO  pupil-teacher ratio by town\n",
    " B        1000(Bk - 0.63)^2 where Bk is the proportion of blacks by town\n",
    " LSTAT    % lower status of the population\n",
    " MEDV     Median value of owner-occupied homes in $1000's\n",
    "</pre>"
   ]
  },
  {
   "cell_type": "code",
   "execution_count": 1,
   "metadata": {},
   "outputs": [
    {
     "data": {
      "text/html": [
       "<div>\n",
       "<style scoped>\n",
       "    .dataframe tbody tr th:only-of-type {\n",
       "        vertical-align: middle;\n",
       "    }\n",
       "\n",
       "    .dataframe tbody tr th {\n",
       "        vertical-align: top;\n",
       "    }\n",
       "\n",
       "    .dataframe thead th {\n",
       "        text-align: right;\n",
       "    }\n",
       "</style>\n",
       "<table border=\"1\" class=\"dataframe\">\n",
       "  <thead>\n",
       "    <tr style=\"text-align: right;\">\n",
       "      <th></th>\n",
       "      <th>CRIM</th>\n",
       "      <th>ZN</th>\n",
       "      <th>INDUS</th>\n",
       "      <th>CHAS</th>\n",
       "      <th>NOX</th>\n",
       "      <th>RM</th>\n",
       "      <th>AGE</th>\n",
       "      <th>DIS</th>\n",
       "      <th>RAD</th>\n",
       "      <th>TAX</th>\n",
       "      <th>PTRATIO</th>\n",
       "      <th>B</th>\n",
       "      <th>LSTAT</th>\n",
       "      <th>MEDV</th>\n",
       "    </tr>\n",
       "  </thead>\n",
       "  <tbody>\n",
       "    <tr>\n",
       "      <td>0</td>\n",
       "      <td>0.00632</td>\n",
       "      <td>18.0</td>\n",
       "      <td>2.31</td>\n",
       "      <td>0</td>\n",
       "      <td>0.538</td>\n",
       "      <td>6.575</td>\n",
       "      <td>65.2</td>\n",
       "      <td>4.0900</td>\n",
       "      <td>1</td>\n",
       "      <td>296.0</td>\n",
       "      <td>15.3</td>\n",
       "      <td>396.90</td>\n",
       "      <td>4.98</td>\n",
       "      <td>24.0</td>\n",
       "    </tr>\n",
       "    <tr>\n",
       "      <td>1</td>\n",
       "      <td>0.02731</td>\n",
       "      <td>0.0</td>\n",
       "      <td>7.07</td>\n",
       "      <td>0</td>\n",
       "      <td>0.469</td>\n",
       "      <td>6.421</td>\n",
       "      <td>78.9</td>\n",
       "      <td>4.9671</td>\n",
       "      <td>2</td>\n",
       "      <td>242.0</td>\n",
       "      <td>17.8</td>\n",
       "      <td>396.90</td>\n",
       "      <td>9.14</td>\n",
       "      <td>21.6</td>\n",
       "    </tr>\n",
       "    <tr>\n",
       "      <td>2</td>\n",
       "      <td>0.02729</td>\n",
       "      <td>0.0</td>\n",
       "      <td>7.07</td>\n",
       "      <td>0</td>\n",
       "      <td>0.469</td>\n",
       "      <td>7.185</td>\n",
       "      <td>61.1</td>\n",
       "      <td>4.9671</td>\n",
       "      <td>2</td>\n",
       "      <td>242.0</td>\n",
       "      <td>17.8</td>\n",
       "      <td>392.83</td>\n",
       "      <td>4.03</td>\n",
       "      <td>34.7</td>\n",
       "    </tr>\n",
       "    <tr>\n",
       "      <td>3</td>\n",
       "      <td>0.03237</td>\n",
       "      <td>0.0</td>\n",
       "      <td>2.18</td>\n",
       "      <td>0</td>\n",
       "      <td>0.458</td>\n",
       "      <td>6.998</td>\n",
       "      <td>45.8</td>\n",
       "      <td>6.0622</td>\n",
       "      <td>3</td>\n",
       "      <td>222.0</td>\n",
       "      <td>18.7</td>\n",
       "      <td>394.63</td>\n",
       "      <td>2.94</td>\n",
       "      <td>33.4</td>\n",
       "    </tr>\n",
       "    <tr>\n",
       "      <td>4</td>\n",
       "      <td>0.06905</td>\n",
       "      <td>0.0</td>\n",
       "      <td>2.18</td>\n",
       "      <td>0</td>\n",
       "      <td>0.458</td>\n",
       "      <td>7.147</td>\n",
       "      <td>54.2</td>\n",
       "      <td>6.0622</td>\n",
       "      <td>3</td>\n",
       "      <td>222.0</td>\n",
       "      <td>18.7</td>\n",
       "      <td>396.90</td>\n",
       "      <td>5.33</td>\n",
       "      <td>36.2</td>\n",
       "    </tr>\n",
       "  </tbody>\n",
       "</table>\n",
       "</div>"
      ],
      "text/plain": [
       "      CRIM    ZN  INDUS  CHAS    NOX     RM   AGE     DIS  RAD    TAX  \\\n",
       "0  0.00632  18.0   2.31     0  0.538  6.575  65.2  4.0900    1  296.0   \n",
       "1  0.02731   0.0   7.07     0  0.469  6.421  78.9  4.9671    2  242.0   \n",
       "2  0.02729   0.0   7.07     0  0.469  7.185  61.1  4.9671    2  242.0   \n",
       "3  0.03237   0.0   2.18     0  0.458  6.998  45.8  6.0622    3  222.0   \n",
       "4  0.06905   0.0   2.18     0  0.458  7.147  54.2  6.0622    3  222.0   \n",
       "\n",
       "   PTRATIO       B  LSTAT  MEDV  \n",
       "0     15.3  396.90   4.98  24.0  \n",
       "1     17.8  396.90   9.14  21.6  \n",
       "2     17.8  392.83   4.03  34.7  \n",
       "3     18.7  394.63   2.94  33.4  \n",
       "4     18.7  396.90   5.33  36.2  "
      ]
     },
     "execution_count": 1,
     "metadata": {},
     "output_type": "execute_result"
    }
   ],
   "source": [
    "import pandas as pd\n",
    "df = pd.read_csv(\"boston_fixed.csv\")\n",
    "df.head()"
   ]
  },
  {
   "cell_type": "markdown",
   "metadata": {},
   "source": [
    "**Exercise 1.** Read the descriptions of the questions above, and come up with three reasonable questions with corresponding methods to test them. The only one that you cannot write, is the one we will do as a class, which I use as an example here:\n",
    "\n",
    "Example questions: \n",
    "* What are factors that are most predictive of the median value of owner-occupied homes? \n",
    "* Is there a small subset of the total number of variables that could be used in predictive model and not sacrifice model accuracy?\n",
    "* Can we say that any of these factors are causing the median home values to go up? \n",
    "\n",
    "Methodology:\n",
    "1. Empirically determine the best modeling method from our known list of ensemble learners and decision trees.\n",
    "2. Using this best model, compute a feature importance score\n",
    "3. Graph the feature importance score and see if this is a dip. Use this as a cutoff if so, if not, then select the best N features and verify model performance does not change significantly.\n",
    "4. NO!!! We cannot say anything about causation with our machine learning models. There are a lot of good discussions out there on why we can't say much about casuation. [See this one for example](https://towardsdatascience.com/causality-in-machine-learning-101-for-dummies-like-me-f7f161e7383e). BUT we can say a bit about correlation and what features are impacting our overall model."
   ]
  },
  {
   "cell_type": "markdown",
   "metadata": {},
   "source": [
    "Questions\n",
    "1. How does the variable b impact the median value of owner-occupied homes when b is included vs not included in modeling/testing?\n",
    "2. Is there evidence that being near non-retail businesses increases median value of owner-occupied home?\n",
    "3. What is the relationship between tax and median value of owner-occupied homes?\n",
    "\n",
    "Methodology\n",
    "1. In our various models, we can include the variable b and exclude the variable. We can use a combination of recall, precision, and f1 to determine this.\n",
    "2. We can compare the median value of owner-occupied home with and without the non-retail businesses variable and test if the difference is significant.\n",
    "3. We can calculate the R-squared value."
   ]
  },
  {
   "cell_type": "markdown",
   "metadata": {},
   "source": [
    "**For the next few questions, we will lean heavily upon sklearn and the built-in models. We'll implement our own methods later in the lab, but this is better to provide a consistent experience.**"
   ]
  },
  {
   "cell_type": "markdown",
   "metadata": {},
   "source": [
    "**Exercises 2-9**\n",
    "What are the factors that are most predictive of the median value of owner-occupied homes? Use the following methodology:\n",
    "\n",
    "1. Empirically determine the best modeling method from our known list of ensemble learners and decision trees (see code for more details)\n",
    "2. Using this best model, compute a feature importance score and rank the features by this"
   ]
  },
  {
   "cell_type": "markdown",
   "metadata": {},
   "source": [
    "### Code to get you started\n",
    "I included all of the imports I used in this section right here. I encourage you to take a look at their documentation. I also encourage you to try and mess with the parameters yourself and see if you can come up with better combinations. Finally, you can completely break the overall flow of what I've laid out as long as you accomplish the main goals."
   ]
  },
  {
   "cell_type": "code",
   "execution_count": 2,
   "metadata": {},
   "outputs": [],
   "source": [
    "%%capture \n",
    "!pip install scikit-posthocs"
   ]
  },
  {
   "cell_type": "code",
   "execution_count": 3,
   "metadata": {},
   "outputs": [
    {
     "name": "stderr",
     "output_type": "stream",
     "text": [
      "/opt/conda/lib/python3.7/site-packages/sklearn/ensemble/weight_boosting.py:29: DeprecationWarning: numpy.core.umath_tests is an internal NumPy module and should not be imported. It will be removed in a future NumPy release.\n",
      "  from numpy.core.umath_tests import inner1d\n"
     ]
    }
   ],
   "source": [
    "# this is for plotting\n",
    "%matplotlib inline \n",
    "\n",
    "import copy\n",
    "\n",
    "# our standard imports\n",
    "import numpy as np\n",
    "import pandas as pd\n",
    "\n",
    "# of course we need to be able to split into training and test\n",
    "from sklearn.model_selection import train_test_split\n",
    "\n",
    "# we need a \"loss\" function\n",
    "from sklearn.metrics import mean_squared_error, r2_score\n",
    "\n",
    "# This is where we can get our models\n",
    "from sklearn.tree import DecisionTreeRegressor\n",
    "from sklearn import ensemble\n",
    "from sklearn.ensemble import RandomForestRegressor\n",
    "\n",
    "# This is what I used for comparing my models\n",
    "import scipy.stats as stats\n",
    "import scikit_posthocs as sp\n",
    "\n",
    "X = df.drop(\"MEDV\",axis=1)\n",
    "y = df[\"MEDV\"]\n",
    "\n",
    "# Below are sample arguments, manually modify some of them and see what happens (we'll do this another time with grid search)\n",
    "# Fit regression model\n",
    "params = {'n_estimators': 500, 'max_depth': 2, 'min_samples_split': 2,\n",
    "          'learning_rate': 0.01, 'loss': 'ls'}\n",
    "gb_1 = ensemble.GradientBoostingRegressor(**params)\n",
    "params = {'n_estimators': 500, 'max_depth': 5, 'min_samples_split': 2,\n",
    "          'learning_rate': 0.01, 'loss': 'ls'}\n",
    "gb_2 = ensemble.GradientBoostingRegressor(**params)\n",
    "regr_1 = DecisionTreeRegressor(max_depth=2)\n",
    "regr_2 = DecisionTreeRegressor(max_depth=5)\n",
    "rf_1 = RandomForestRegressor(n_estimators=100)\n",
    "rf_2 = RandomForestRegressor(n_estimators=500)\n",
    "\n",
    "models = [('Gradient Boosting 1',gb_1),('Gradient Boosting 2',gb_2),\n",
    "          ('DTree 1',regr_1),('DTree 2',regr_2),\n",
    "          ('RF 1',rf_1),('RF 2',rf_2)\n",
    "         ]"
   ]
  },
  {
   "cell_type": "markdown",
   "metadata": {},
   "source": [
    "**Exercise 2** Fill in the following code that finds the mean squared error for 30 repeated hold-out cross-validation experiments for each classifier. In other words, fill in my code and produce something similar to my output. It is very important to realize that you will get different numbers since this is stochastic."
   ]
  },
  {
   "cell_type": "code",
   "execution_count": 4,
   "metadata": {},
   "outputs": [],
   "source": [
    "num_iterations = 30\n",
    "model_list = []\n",
    "predictions = []\n",
    "ytests = []\n",
    "mses = []\n",
    "for iteration in range(num_iterations):\n",
    "    Xtrain, Xtest, ytrain, ytest = train_test_split(X,y,test_size=0.10,shuffle=True)\n",
    "    models_train = copy.deepcopy(models)\n",
    "    \n",
    "    for model in models_train:\n",
    "        model_list.append(model[0])\n",
    "        m = model[1].fit(Xtrain, ytrain)\n",
    "        predictions.append(m.predict(Xtest))\n",
    "        ytests.append(ytest)\n",
    "        mses.append(mean_squared_error(ytest, m.predict(Xtest)))"
   ]
  },
  {
   "cell_type": "code",
   "execution_count": 5,
   "metadata": {},
   "outputs": [],
   "source": [
    "def make_dfs(first_num, mses, model_list):\n",
    "    temp = []\n",
    "    for i in range(first_num, 180, 6):\n",
    "        temp.append(mses[i])\n",
    "        df = pd.DataFrame(temp, columns=[model_list[first_num]])\n",
    "    return df"
   ]
  },
  {
   "cell_type": "code",
   "execution_count": 6,
   "metadata": {},
   "outputs": [],
   "source": [
    "gb1 = make_dfs(0, mses, model_list)\n",
    "gb2 = make_dfs(1, mses, model_list)\n",
    "dt1 = make_dfs(2, mses, model_list)\n",
    "dt2 = make_dfs(3, mses, model_list)\n",
    "rf1 = make_dfs(4, mses, model_list)\n",
    "rf2 = make_dfs(5, mses, model_list)"
   ]
  },
  {
   "cell_type": "code",
   "execution_count": 7,
   "metadata": {},
   "outputs": [],
   "source": [
    "errors = gb1.join(gb2, how=\"left\").join(dt1, how=\"left\").join(dt2, how=\"left\").join(rf1, how=\"left\").join(rf2, how=\"left\")"
   ]
  },
  {
   "cell_type": "code",
   "execution_count": 8,
   "metadata": {},
   "outputs": [
    {
     "data": {
      "text/html": [
       "<div>\n",
       "<style scoped>\n",
       "    .dataframe tbody tr th:only-of-type {\n",
       "        vertical-align: middle;\n",
       "    }\n",
       "\n",
       "    .dataframe tbody tr th {\n",
       "        vertical-align: top;\n",
       "    }\n",
       "\n",
       "    .dataframe thead th {\n",
       "        text-align: right;\n",
       "    }\n",
       "</style>\n",
       "<table border=\"1\" class=\"dataframe\">\n",
       "  <thead>\n",
       "    <tr style=\"text-align: right;\">\n",
       "      <th></th>\n",
       "      <th>Gradient Boosting 1</th>\n",
       "      <th>Gradient Boosting 2</th>\n",
       "      <th>DTree 1</th>\n",
       "      <th>DTree 2</th>\n",
       "      <th>RF 1</th>\n",
       "      <th>RF 2</th>\n",
       "    </tr>\n",
       "  </thead>\n",
       "  <tbody>\n",
       "    <tr>\n",
       "      <td>0</td>\n",
       "      <td>17.727649</td>\n",
       "      <td>8.359413</td>\n",
       "      <td>42.138370</td>\n",
       "      <td>16.692046</td>\n",
       "      <td>12.754644</td>\n",
       "      <td>12.068526</td>\n",
       "    </tr>\n",
       "    <tr>\n",
       "      <td>1</td>\n",
       "      <td>17.079262</td>\n",
       "      <td>10.543040</td>\n",
       "      <td>44.933649</td>\n",
       "      <td>12.103425</td>\n",
       "      <td>10.333326</td>\n",
       "      <td>11.787014</td>\n",
       "    </tr>\n",
       "    <tr>\n",
       "      <td>2</td>\n",
       "      <td>19.422600</td>\n",
       "      <td>9.935675</td>\n",
       "      <td>40.313458</td>\n",
       "      <td>13.318719</td>\n",
       "      <td>10.662598</td>\n",
       "      <td>10.968147</td>\n",
       "    </tr>\n",
       "    <tr>\n",
       "      <td>3</td>\n",
       "      <td>11.809073</td>\n",
       "      <td>5.822245</td>\n",
       "      <td>35.382689</td>\n",
       "      <td>16.599815</td>\n",
       "      <td>8.672270</td>\n",
       "      <td>9.656926</td>\n",
       "    </tr>\n",
       "    <tr>\n",
       "      <td>4</td>\n",
       "      <td>12.386060</td>\n",
       "      <td>6.753628</td>\n",
       "      <td>30.102343</td>\n",
       "      <td>10.073797</td>\n",
       "      <td>8.016599</td>\n",
       "      <td>8.862199</td>\n",
       "    </tr>\n",
       "  </tbody>\n",
       "</table>\n",
       "</div>"
      ],
      "text/plain": [
       "   Gradient Boosting 1  Gradient Boosting 2    DTree 1    DTree 2       RF 1  \\\n",
       "0            17.727649             8.359413  42.138370  16.692046  12.754644   \n",
       "1            17.079262            10.543040  44.933649  12.103425  10.333326   \n",
       "2            19.422600             9.935675  40.313458  13.318719  10.662598   \n",
       "3            11.809073             5.822245  35.382689  16.599815   8.672270   \n",
       "4            12.386060             6.753628  30.102343  10.073797   8.016599   \n",
       "\n",
       "        RF 2  \n",
       "0  12.068526  \n",
       "1  11.787014  \n",
       "2  10.968147  \n",
       "3   9.656926  \n",
       "4   8.862199  "
      ]
     },
     "execution_count": 8,
     "metadata": {},
     "output_type": "execute_result"
    }
   ],
   "source": [
    "errors.head()"
   ]
  },
  {
   "cell_type": "code",
   "execution_count": 9,
   "metadata": {},
   "outputs": [
    {
     "data": {
      "text/html": [
       "<div>\n",
       "<style scoped>\n",
       "    .dataframe tbody tr th:only-of-type {\n",
       "        vertical-align: middle;\n",
       "    }\n",
       "\n",
       "    .dataframe tbody tr th {\n",
       "        vertical-align: top;\n",
       "    }\n",
       "\n",
       "    .dataframe thead th {\n",
       "        text-align: right;\n",
       "    }\n",
       "</style>\n",
       "<table border=\"1\" class=\"dataframe\">\n",
       "  <thead>\n",
       "    <tr style=\"text-align: right;\">\n",
       "      <th></th>\n",
       "      <th>Gradient Boosting 1</th>\n",
       "      <th>Gradient Boosting 2</th>\n",
       "      <th>DTree 1</th>\n",
       "      <th>DTree 2</th>\n",
       "      <th>RF 1</th>\n",
       "      <th>RF 2</th>\n",
       "    </tr>\n",
       "  </thead>\n",
       "  <tbody>\n",
       "    <tr>\n",
       "      <td>count</td>\n",
       "      <td>30.000000</td>\n",
       "      <td>30.000000</td>\n",
       "      <td>30.000000</td>\n",
       "      <td>30.000000</td>\n",
       "      <td>30.000000</td>\n",
       "      <td>30.000000</td>\n",
       "    </tr>\n",
       "    <tr>\n",
       "      <td>mean</td>\n",
       "      <td>14.322175</td>\n",
       "      <td>10.517962</td>\n",
       "      <td>32.196046</td>\n",
       "      <td>22.018548</td>\n",
       "      <td>11.836411</td>\n",
       "      <td>11.624347</td>\n",
       "    </tr>\n",
       "    <tr>\n",
       "      <td>std</td>\n",
       "      <td>5.360408</td>\n",
       "      <td>5.974612</td>\n",
       "      <td>9.923907</td>\n",
       "      <td>14.427808</td>\n",
       "      <td>5.737549</td>\n",
       "      <td>5.487399</td>\n",
       "    </tr>\n",
       "    <tr>\n",
       "      <td>min</td>\n",
       "      <td>5.655490</td>\n",
       "      <td>4.060663</td>\n",
       "      <td>11.007199</td>\n",
       "      <td>4.928707</td>\n",
       "      <td>3.841588</td>\n",
       "      <td>3.943534</td>\n",
       "    </tr>\n",
       "    <tr>\n",
       "      <td>25%</td>\n",
       "      <td>10.023812</td>\n",
       "      <td>6.281978</td>\n",
       "      <td>23.613271</td>\n",
       "      <td>13.224640</td>\n",
       "      <td>7.218448</td>\n",
       "      <td>7.428100</td>\n",
       "    </tr>\n",
       "    <tr>\n",
       "      <td>50%</td>\n",
       "      <td>14.850859</td>\n",
       "      <td>8.547716</td>\n",
       "      <td>34.790633</td>\n",
       "      <td>16.367320</td>\n",
       "      <td>10.497962</td>\n",
       "      <td>10.683591</td>\n",
       "    </tr>\n",
       "    <tr>\n",
       "      <td>75%</td>\n",
       "      <td>18.922309</td>\n",
       "      <td>12.191402</td>\n",
       "      <td>39.901868</td>\n",
       "      <td>26.433021</td>\n",
       "      <td>14.918540</td>\n",
       "      <td>14.418058</td>\n",
       "    </tr>\n",
       "    <tr>\n",
       "      <td>max</td>\n",
       "      <td>23.936295</td>\n",
       "      <td>30.816578</td>\n",
       "      <td>48.233988</td>\n",
       "      <td>70.029086</td>\n",
       "      <td>25.620731</td>\n",
       "      <td>25.563319</td>\n",
       "    </tr>\n",
       "  </tbody>\n",
       "</table>\n",
       "</div>"
      ],
      "text/plain": [
       "       Gradient Boosting 1  Gradient Boosting 2    DTree 1    DTree 2  \\\n",
       "count            30.000000            30.000000  30.000000  30.000000   \n",
       "mean             14.322175            10.517962  32.196046  22.018548   \n",
       "std               5.360408             5.974612   9.923907  14.427808   \n",
       "min               5.655490             4.060663  11.007199   4.928707   \n",
       "25%              10.023812             6.281978  23.613271  13.224640   \n",
       "50%              14.850859             8.547716  34.790633  16.367320   \n",
       "75%              18.922309            12.191402  39.901868  26.433021   \n",
       "max              23.936295            30.816578  48.233988  70.029086   \n",
       "\n",
       "            RF 1       RF 2  \n",
       "count  30.000000  30.000000  \n",
       "mean   11.836411  11.624347  \n",
       "std     5.737549   5.487399  \n",
       "min     3.841588   3.943534  \n",
       "25%     7.218448   7.428100  \n",
       "50%    10.497962  10.683591  \n",
       "75%    14.918540  14.418058  \n",
       "max    25.620731  25.563319  "
      ]
     },
     "execution_count": 9,
     "metadata": {},
     "output_type": "execute_result"
    }
   ],
   "source": [
    "errors.describe()"
   ]
  },
  {
   "cell_type": "markdown",
   "metadata": {},
   "source": [
    "**Exercise 3** Perform a one-way ANOVA to determine if there are any significant differences between methods"
   ]
  },
  {
   "cell_type": "code",
   "execution_count": null,
   "metadata": {},
   "outputs": [],
   "source": []
  },
  {
   "cell_type": "code",
   "execution_count": 10,
   "metadata": {},
   "outputs": [
    {
     "data": {
      "text/plain": [
       "F_onewayResult(statistic=29.921529093885745, pvalue=7.195576910870597e-22)"
      ]
     },
     "execution_count": 10,
     "metadata": {},
     "output_type": "execute_result"
    }
   ],
   "source": [
    "stats.f_oneway(errors[\"Gradient Boosting 1\"].to_list(), errors[\"Gradient Boosting 2\"].to_list(), \n",
    "               errors[\"DTree 1\"].to_list(), errors[\"DTree 2\"].to_list(),\n",
    "               errors[\"RF 1\"].to_list(), errors[\"RF 2\"].to_list())"
   ]
  },
  {
   "cell_type": "markdown",
   "metadata": {},
   "source": [
    "According to the one-way ANOVA there does seem to be at least one model that performs significantly better than another model"
   ]
  },
  {
   "cell_type": "markdown",
   "metadata": {},
   "source": [
    "**Exercise 4** Perform a post-hoc pairwise test with bonferroni multiple test correction"
   ]
  },
  {
   "cell_type": "code",
   "execution_count": 11,
   "metadata": {},
   "outputs": [
    {
     "data": {
      "text/html": [
       "<div>\n",
       "<style scoped>\n",
       "    .dataframe tbody tr th:only-of-type {\n",
       "        vertical-align: middle;\n",
       "    }\n",
       "\n",
       "    .dataframe tbody tr th {\n",
       "        vertical-align: top;\n",
       "    }\n",
       "\n",
       "    .dataframe thead th {\n",
       "        text-align: right;\n",
       "    }\n",
       "</style>\n",
       "<table border=\"1\" class=\"dataframe\">\n",
       "  <thead>\n",
       "    <tr style=\"text-align: right;\">\n",
       "      <th></th>\n",
       "      <th>Gradient Boosting 1</th>\n",
       "      <th>Gradient Boosting 2</th>\n",
       "      <th>DTree 1</th>\n",
       "      <th>DTree 2</th>\n",
       "      <th>RF 1</th>\n",
       "      <th>RF 2</th>\n",
       "    </tr>\n",
       "  </thead>\n",
       "  <tbody>\n",
       "    <tr>\n",
       "      <td>Gradient Boosting 1</td>\n",
       "      <td>-1.000000e+00</td>\n",
       "      <td>1.790007e-01</td>\n",
       "      <td>6.742425e-11</td>\n",
       "      <td>0.122646</td>\n",
       "      <td>1.000000e+00</td>\n",
       "      <td>8.846331e-01</td>\n",
       "    </tr>\n",
       "    <tr>\n",
       "      <td>Gradient Boosting 2</td>\n",
       "      <td>1.790007e-01</td>\n",
       "      <td>-1.000000e+00</td>\n",
       "      <td>1.847593e-13</td>\n",
       "      <td>0.002437</td>\n",
       "      <td>1.000000e+00</td>\n",
       "      <td>1.000000e+00</td>\n",
       "    </tr>\n",
       "    <tr>\n",
       "      <td>DTree 1</td>\n",
       "      <td>6.742425e-11</td>\n",
       "      <td>1.847593e-13</td>\n",
       "      <td>-1.000000e+00</td>\n",
       "      <td>0.035121</td>\n",
       "      <td>1.280280e-12</td>\n",
       "      <td>5.900444e-13</td>\n",
       "    </tr>\n",
       "    <tr>\n",
       "      <td>DTree 2</td>\n",
       "      <td>1.226455e-01</td>\n",
       "      <td>2.437093e-03</td>\n",
       "      <td>3.512111e-02</td>\n",
       "      <td>-1.000000</td>\n",
       "      <td>1.015798e-02</td>\n",
       "      <td>7.494439e-03</td>\n",
       "    </tr>\n",
       "    <tr>\n",
       "      <td>RF 1</td>\n",
       "      <td>1.000000e+00</td>\n",
       "      <td>1.000000e+00</td>\n",
       "      <td>1.280280e-12</td>\n",
       "      <td>0.010158</td>\n",
       "      <td>-1.000000e+00</td>\n",
       "      <td>1.000000e+00</td>\n",
       "    </tr>\n",
       "    <tr>\n",
       "      <td>RF 2</td>\n",
       "      <td>8.846331e-01</td>\n",
       "      <td>1.000000e+00</td>\n",
       "      <td>5.900444e-13</td>\n",
       "      <td>0.007494</td>\n",
       "      <td>1.000000e+00</td>\n",
       "      <td>-1.000000e+00</td>\n",
       "    </tr>\n",
       "  </tbody>\n",
       "</table>\n",
       "</div>"
      ],
      "text/plain": [
       "                     Gradient Boosting 1  Gradient Boosting 2       DTree 1  \\\n",
       "Gradient Boosting 1        -1.000000e+00         1.790007e-01  6.742425e-11   \n",
       "Gradient Boosting 2         1.790007e-01        -1.000000e+00  1.847593e-13   \n",
       "DTree 1                     6.742425e-11         1.847593e-13 -1.000000e+00   \n",
       "DTree 2                     1.226455e-01         2.437093e-03  3.512111e-02   \n",
       "RF 1                        1.000000e+00         1.000000e+00  1.280280e-12   \n",
       "RF 2                        8.846331e-01         1.000000e+00  5.900444e-13   \n",
       "\n",
       "                      DTree 2          RF 1          RF 2  \n",
       "Gradient Boosting 1  0.122646  1.000000e+00  8.846331e-01  \n",
       "Gradient Boosting 2  0.002437  1.000000e+00  1.000000e+00  \n",
       "DTree 1              0.035121  1.280280e-12  5.900444e-13  \n",
       "DTree 2             -1.000000  1.015798e-02  7.494439e-03  \n",
       "RF 1                 0.010158 -1.000000e+00  1.000000e+00  \n",
       "RF 2                 0.007494  1.000000e+00 -1.000000e+00  "
      ]
     },
     "execution_count": 11,
     "metadata": {},
     "output_type": "execute_result"
    }
   ],
   "source": [
    "import scikit_posthocs as sp\n",
    "post_hoc = pd.DataFrame(sp.posthoc_ttest(errors.transpose().values, p_adjust='bonferroni'), \n",
    "                        columns=errors.columns, index=errors.columns)\n",
    "post_hoc"
   ]
  },
  {
   "cell_type": "markdown",
   "metadata": {},
   "source": [
    "**Exercise 5** Which method(s) perform the best? Consider which methods you can actually say with certainty perform better than the rest.\n",
    "\n"
   ]
  },
  {
   "cell_type": "code",
   "execution_count": 12,
   "metadata": {},
   "outputs": [
    {
     "data": {
      "text/plain": [
       "Gradient Boosting 2    10.517962\n",
       "RF 2                   11.624347\n",
       "RF 1                   11.836411\n",
       "Gradient Boosting 1    14.322175\n",
       "DTree 2                22.018548\n",
       "DTree 1                32.196046\n",
       "Name: mean, dtype: float64"
      ]
     },
     "execution_count": 12,
     "metadata": {},
     "output_type": "execute_result"
    }
   ],
   "source": [
    "errors.describe().loc[\"mean\"].sort_values()"
   ]
  },
  {
   "cell_type": "code",
   "execution_count": 13,
   "metadata": {},
   "outputs": [
    {
     "data": {
      "text/plain": [
       "Gradient Boosting 1    False\n",
       "Gradient Boosting 2     True\n",
       "DTree 1                 True\n",
       "DTree 2                 True\n",
       "RF 1                   False\n",
       "RF 2                   False\n",
       "Name: Gradient Boosting 2, dtype: bool"
      ]
     },
     "execution_count": 13,
     "metadata": {},
     "output_type": "execute_result"
    }
   ],
   "source": [
    "post_hoc[\"Gradient Boosting 2\"] < 0.05"
   ]
  },
  {
   "cell_type": "markdown",
   "metadata": {},
   "source": [
    "Gradient Boosting 2 performs the best and does not signifcantly perfom better than Gradient Boosting 1, DTree 1, DTree 2"
   ]
  },
  {
   "cell_type": "markdown",
   "metadata": {},
   "source": [
    "**Exercise 6** Spoiler... There should be more a few models that we are unable to distinguish using 30 trials. Rerun your above analysis, but this time repeat it with 200 trials instead of 30. Is there now a clear winner? This can definitely take a while..."
   ]
  },
  {
   "cell_type": "code",
   "execution_count": 14,
   "metadata": {},
   "outputs": [],
   "source": [
    "num_iterations = 200\n",
    "model_list = []\n",
    "predictions = []\n",
    "ytests = []\n",
    "mses = []\n",
    "for iteration in range(num_iterations):\n",
    "    Xtrain, Xtest, ytrain, ytest = train_test_split(X,y,test_size=0.10,shuffle=True)\n",
    "    models_train = copy.deepcopy(models)\n",
    "    \n",
    "    for model in models_train:\n",
    "        model_list.append(model[0])\n",
    "        m = model[1].fit(Xtrain, ytrain)\n",
    "        predictions.append(m.predict(Xtest))\n",
    "        ytests.append(ytest)\n",
    "        mses.append(mean_squared_error(ytest, m.predict(Xtest)))\n",
    "    "
   ]
  },
  {
   "cell_type": "code",
   "execution_count": 15,
   "metadata": {},
   "outputs": [],
   "source": [
    "def make_dfs(first_num, mses, model_list):\n",
    "    temp = []\n",
    "    for i in range(first_num, 1200, 6):\n",
    "        temp.append(mses[i])\n",
    "        df = pd.DataFrame(temp, columns=[model_list[first_num]])\n",
    "    return df"
   ]
  },
  {
   "cell_type": "code",
   "execution_count": 16,
   "metadata": {},
   "outputs": [],
   "source": [
    "gb1 = make_dfs(0, mses, model_list)\n",
    "gb2 = make_dfs(1, mses, model_list)\n",
    "dt1 = make_dfs(2, mses, model_list)\n",
    "dt2 = make_dfs(3, mses, model_list)\n",
    "rf1 = make_dfs(4, mses, model_list)\n",
    "rf2 = make_dfs(5, mses, model_list)"
   ]
  },
  {
   "cell_type": "code",
   "execution_count": 17,
   "metadata": {},
   "outputs": [],
   "source": [
    "errors = gb1.join(gb2, how=\"left\").join(dt1, how=\"left\").join(dt2, how=\"left\").join(rf1, how=\"left\").join(rf2, how=\"left\")"
   ]
  },
  {
   "cell_type": "code",
   "execution_count": 18,
   "metadata": {},
   "outputs": [
    {
     "data": {
      "text/html": [
       "<div>\n",
       "<style scoped>\n",
       "    .dataframe tbody tr th:only-of-type {\n",
       "        vertical-align: middle;\n",
       "    }\n",
       "\n",
       "    .dataframe tbody tr th {\n",
       "        vertical-align: top;\n",
       "    }\n",
       "\n",
       "    .dataframe thead th {\n",
       "        text-align: right;\n",
       "    }\n",
       "</style>\n",
       "<table border=\"1\" class=\"dataframe\">\n",
       "  <thead>\n",
       "    <tr style=\"text-align: right;\">\n",
       "      <th></th>\n",
       "      <th>Gradient Boosting 1</th>\n",
       "      <th>Gradient Boosting 2</th>\n",
       "      <th>DTree 1</th>\n",
       "      <th>DTree 2</th>\n",
       "      <th>RF 1</th>\n",
       "      <th>RF 2</th>\n",
       "    </tr>\n",
       "  </thead>\n",
       "  <tbody>\n",
       "    <tr>\n",
       "      <td>0</td>\n",
       "      <td>11.987226</td>\n",
       "      <td>6.859747</td>\n",
       "      <td>20.293571</td>\n",
       "      <td>10.843788</td>\n",
       "      <td>7.788218</td>\n",
       "      <td>7.777887</td>\n",
       "    </tr>\n",
       "    <tr>\n",
       "      <td>1</td>\n",
       "      <td>13.078225</td>\n",
       "      <td>12.388672</td>\n",
       "      <td>44.985239</td>\n",
       "      <td>35.785516</td>\n",
       "      <td>15.413025</td>\n",
       "      <td>14.112784</td>\n",
       "    </tr>\n",
       "    <tr>\n",
       "      <td>2</td>\n",
       "      <td>11.585119</td>\n",
       "      <td>8.805987</td>\n",
       "      <td>24.674663</td>\n",
       "      <td>25.746260</td>\n",
       "      <td>9.778086</td>\n",
       "      <td>9.350877</td>\n",
       "    </tr>\n",
       "    <tr>\n",
       "      <td>3</td>\n",
       "      <td>10.930000</td>\n",
       "      <td>11.936393</td>\n",
       "      <td>21.894930</td>\n",
       "      <td>39.149373</td>\n",
       "      <td>11.365300</td>\n",
       "      <td>11.510032</td>\n",
       "    </tr>\n",
       "    <tr>\n",
       "      <td>4</td>\n",
       "      <td>12.351671</td>\n",
       "      <td>6.766940</td>\n",
       "      <td>27.652516</td>\n",
       "      <td>17.907513</td>\n",
       "      <td>7.079514</td>\n",
       "      <td>6.476058</td>\n",
       "    </tr>\n",
       "  </tbody>\n",
       "</table>\n",
       "</div>"
      ],
      "text/plain": [
       "   Gradient Boosting 1  Gradient Boosting 2    DTree 1    DTree 2       RF 1  \\\n",
       "0            11.987226             6.859747  20.293571  10.843788   7.788218   \n",
       "1            13.078225            12.388672  44.985239  35.785516  15.413025   \n",
       "2            11.585119             8.805987  24.674663  25.746260   9.778086   \n",
       "3            10.930000            11.936393  21.894930  39.149373  11.365300   \n",
       "4            12.351671             6.766940  27.652516  17.907513   7.079514   \n",
       "\n",
       "        RF 2  \n",
       "0   7.777887  \n",
       "1  14.112784  \n",
       "2   9.350877  \n",
       "3  11.510032  \n",
       "4   6.476058  "
      ]
     },
     "execution_count": 18,
     "metadata": {},
     "output_type": "execute_result"
    }
   ],
   "source": [
    "errors.head()"
   ]
  },
  {
   "cell_type": "code",
   "execution_count": 19,
   "metadata": {},
   "outputs": [
    {
     "data": {
      "text/html": [
       "<div>\n",
       "<style scoped>\n",
       "    .dataframe tbody tr th:only-of-type {\n",
       "        vertical-align: middle;\n",
       "    }\n",
       "\n",
       "    .dataframe tbody tr th {\n",
       "        vertical-align: top;\n",
       "    }\n",
       "\n",
       "    .dataframe thead th {\n",
       "        text-align: right;\n",
       "    }\n",
       "</style>\n",
       "<table border=\"1\" class=\"dataframe\">\n",
       "  <thead>\n",
       "    <tr style=\"text-align: right;\">\n",
       "      <th></th>\n",
       "      <th>Gradient Boosting 1</th>\n",
       "      <th>Gradient Boosting 2</th>\n",
       "      <th>DTree 1</th>\n",
       "      <th>DTree 2</th>\n",
       "      <th>RF 1</th>\n",
       "      <th>RF 2</th>\n",
       "    </tr>\n",
       "  </thead>\n",
       "  <tbody>\n",
       "    <tr>\n",
       "      <td>Gradient Boosting 1</td>\n",
       "      <td>-1.000000e+00</td>\n",
       "      <td>5.417692e-09</td>\n",
       "      <td>2.937006e-60</td>\n",
       "      <td>2.999226e-11</td>\n",
       "      <td>5.426305e-04</td>\n",
       "      <td>1.360568e-04</td>\n",
       "    </tr>\n",
       "    <tr>\n",
       "      <td>Gradient Boosting 2</td>\n",
       "      <td>5.417692e-09</td>\n",
       "      <td>-1.000000e+00</td>\n",
       "      <td>5.564400e-82</td>\n",
       "      <td>1.096493e-25</td>\n",
       "      <td>2.667109e-01</td>\n",
       "      <td>5.712125e-01</td>\n",
       "    </tr>\n",
       "    <tr>\n",
       "      <td>DTree 1</td>\n",
       "      <td>2.937006e-60</td>\n",
       "      <td>5.564400e-82</td>\n",
       "      <td>-1.000000e+00</td>\n",
       "      <td>6.498055e-19</td>\n",
       "      <td>4.153297e-75</td>\n",
       "      <td>3.078768e-76</td>\n",
       "    </tr>\n",
       "    <tr>\n",
       "      <td>DTree 2</td>\n",
       "      <td>2.999226e-11</td>\n",
       "      <td>1.096493e-25</td>\n",
       "      <td>6.498055e-19</td>\n",
       "      <td>-1.000000e+00</td>\n",
       "      <td>1.937247e-20</td>\n",
       "      <td>3.462018e-21</td>\n",
       "    </tr>\n",
       "    <tr>\n",
       "      <td>RF 1</td>\n",
       "      <td>5.426305e-04</td>\n",
       "      <td>2.667109e-01</td>\n",
       "      <td>4.153297e-75</td>\n",
       "      <td>1.937247e-20</td>\n",
       "      <td>-1.000000e+00</td>\n",
       "      <td>1.000000e+00</td>\n",
       "    </tr>\n",
       "    <tr>\n",
       "      <td>RF 2</td>\n",
       "      <td>1.360568e-04</td>\n",
       "      <td>5.712125e-01</td>\n",
       "      <td>3.078768e-76</td>\n",
       "      <td>3.462018e-21</td>\n",
       "      <td>1.000000e+00</td>\n",
       "      <td>-1.000000e+00</td>\n",
       "    </tr>\n",
       "  </tbody>\n",
       "</table>\n",
       "</div>"
      ],
      "text/plain": [
       "                     Gradient Boosting 1  Gradient Boosting 2       DTree 1  \\\n",
       "Gradient Boosting 1        -1.000000e+00         5.417692e-09  2.937006e-60   \n",
       "Gradient Boosting 2         5.417692e-09        -1.000000e+00  5.564400e-82   \n",
       "DTree 1                     2.937006e-60         5.564400e-82 -1.000000e+00   \n",
       "DTree 2                     2.999226e-11         1.096493e-25  6.498055e-19   \n",
       "RF 1                        5.426305e-04         2.667109e-01  4.153297e-75   \n",
       "RF 2                        1.360568e-04         5.712125e-01  3.078768e-76   \n",
       "\n",
       "                          DTree 2          RF 1          RF 2  \n",
       "Gradient Boosting 1  2.999226e-11  5.426305e-04  1.360568e-04  \n",
       "Gradient Boosting 2  1.096493e-25  2.667109e-01  5.712125e-01  \n",
       "DTree 1              6.498055e-19  4.153297e-75  3.078768e-76  \n",
       "DTree 2             -1.000000e+00  1.937247e-20  3.462018e-21  \n",
       "RF 1                 1.937247e-20 -1.000000e+00  1.000000e+00  \n",
       "RF 2                 3.462018e-21  1.000000e+00 -1.000000e+00  "
      ]
     },
     "execution_count": 19,
     "metadata": {},
     "output_type": "execute_result"
    }
   ],
   "source": [
    "post_hoc = pd.DataFrame(sp.posthoc_ttest(errors.transpose().values, p_adjust='bonferroni'), \n",
    "                        columns=errors.columns, index=errors.columns)\n",
    "post_hoc"
   ]
  },
  {
   "cell_type": "code",
   "execution_count": 20,
   "metadata": {},
   "outputs": [
    {
     "data": {
      "text/plain": [
       "Gradient Boosting 2     9.747807\n",
       "RF 2                   10.766379\n",
       "RF 1                   10.924009\n",
       "Gradient Boosting 1    13.238558\n",
       "DTree 2                19.823827\n",
       "DTree 1                30.558813\n",
       "Name: mean, dtype: float64"
      ]
     },
     "execution_count": 20,
     "metadata": {},
     "output_type": "execute_result"
    }
   ],
   "source": [
    "errors.describe().loc[\"mean\"].sort_values()"
   ]
  },
  {
   "cell_type": "code",
   "execution_count": 21,
   "metadata": {},
   "outputs": [
    {
     "data": {
      "text/plain": [
       "Gradient Boosting 1     True\n",
       "Gradient Boosting 2     True\n",
       "DTree 1                 True\n",
       "DTree 2                 True\n",
       "RF 1                   False\n",
       "RF 2                   False\n",
       "Name: Gradient Boosting 2, dtype: bool"
      ]
     },
     "execution_count": 21,
     "metadata": {},
     "output_type": "execute_result"
    }
   ],
   "source": [
    "post_hoc[\"Gradient Boosting 2\"] < 0.05"
   ]
  },
  {
   "cell_type": "markdown",
   "metadata": {},
   "source": [
    "**Exercise 6** Are there still any ties? If so, what are the best models? From there select the top model in terms of average error. Would this have been your same conclusion with only 30 experiments?\n",
    "\n"
   ]
  },
  {
   "cell_type": "markdown",
   "metadata": {},
   "source": [
    "After 200 iterations, Gradient Boosting 2 is still the best model, but once again, it is not significantly better than Gradient Boosting 1, DTree 1, and DTree 2. Therefore, this is the same conclusion as before when we ran 3o iterations."
   ]
  },
  {
   "cell_type": "markdown",
   "metadata": {},
   "source": [
    "**Exercise 7** With you model of choice, calculate the mean_squared_error and r2_score."
   ]
  },
  {
   "cell_type": "markdown",
   "metadata": {},
   "source": [
    "Our model of choice will be Gradient Boosting 2"
   ]
  },
  {
   "cell_type": "code",
   "execution_count": 22,
   "metadata": {},
   "outputs": [],
   "source": [
    "gb_preds = []\n",
    "for i in range(1, 1201, 6):\n",
    "    gb_preds.append(predictions[i])\n",
    "\n",
    "gb = pd.DataFrame(gb_preds).transpose()"
   ]
  },
  {
   "cell_type": "code",
   "execution_count": 23,
   "metadata": {},
   "outputs": [],
   "source": [
    "gb_ytests = []\n",
    "for i in range(1, 1201, 6):\n",
    "    gb_ytests.append(ytests[i].values)\n",
    "    \n",
    "ys = pd.DataFrame(gb_ytests).transpose()"
   ]
  },
  {
   "cell_type": "code",
   "execution_count": 24,
   "metadata": {},
   "outputs": [
    {
     "data": {
      "text/html": [
       "<div>\n",
       "<style scoped>\n",
       "    .dataframe tbody tr th:only-of-type {\n",
       "        vertical-align: middle;\n",
       "    }\n",
       "\n",
       "    .dataframe tbody tr th {\n",
       "        vertical-align: top;\n",
       "    }\n",
       "\n",
       "    .dataframe thead th {\n",
       "        text-align: right;\n",
       "    }\n",
       "</style>\n",
       "<table border=\"1\" class=\"dataframe\">\n",
       "  <thead>\n",
       "    <tr style=\"text-align: right;\">\n",
       "      <th></th>\n",
       "      <th>0</th>\n",
       "      <th>1</th>\n",
       "      <th>2</th>\n",
       "      <th>3</th>\n",
       "      <th>4</th>\n",
       "      <th>5</th>\n",
       "      <th>6</th>\n",
       "      <th>7</th>\n",
       "      <th>8</th>\n",
       "      <th>9</th>\n",
       "      <th>...</th>\n",
       "      <th>190</th>\n",
       "      <th>191</th>\n",
       "      <th>192</th>\n",
       "      <th>193</th>\n",
       "      <th>194</th>\n",
       "      <th>195</th>\n",
       "      <th>196</th>\n",
       "      <th>197</th>\n",
       "      <th>198</th>\n",
       "      <th>199</th>\n",
       "    </tr>\n",
       "  </thead>\n",
       "  <tbody>\n",
       "    <tr>\n",
       "      <td>0</td>\n",
       "      <td>17.5</td>\n",
       "      <td>18.3</td>\n",
       "      <td>28.5</td>\n",
       "      <td>15.0</td>\n",
       "      <td>31.7</td>\n",
       "      <td>7.0</td>\n",
       "      <td>15.0</td>\n",
       "      <td>30.8</td>\n",
       "      <td>21.2</td>\n",
       "      <td>8.8</td>\n",
       "      <td>...</td>\n",
       "      <td>21.9</td>\n",
       "      <td>20.7</td>\n",
       "      <td>18.0</td>\n",
       "      <td>10.2</td>\n",
       "      <td>33.2</td>\n",
       "      <td>19.7</td>\n",
       "      <td>21.4</td>\n",
       "      <td>23.9</td>\n",
       "      <td>18.6</td>\n",
       "      <td>20.5</td>\n",
       "    </tr>\n",
       "    <tr>\n",
       "      <td>1</td>\n",
       "      <td>17.1</td>\n",
       "      <td>19.3</td>\n",
       "      <td>16.1</td>\n",
       "      <td>18.9</td>\n",
       "      <td>15.1</td>\n",
       "      <td>23.6</td>\n",
       "      <td>22.5</td>\n",
       "      <td>27.9</td>\n",
       "      <td>22.5</td>\n",
       "      <td>41.3</td>\n",
       "      <td>...</td>\n",
       "      <td>27.5</td>\n",
       "      <td>19.1</td>\n",
       "      <td>23.7</td>\n",
       "      <td>13.5</td>\n",
       "      <td>50.0</td>\n",
       "      <td>18.0</td>\n",
       "      <td>19.1</td>\n",
       "      <td>35.4</td>\n",
       "      <td>18.5</td>\n",
       "      <td>12.5</td>\n",
       "    </tr>\n",
       "    <tr>\n",
       "      <td>2</td>\n",
       "      <td>21.8</td>\n",
       "      <td>15.0</td>\n",
       "      <td>24.4</td>\n",
       "      <td>22.6</td>\n",
       "      <td>21.7</td>\n",
       "      <td>48.3</td>\n",
       "      <td>17.4</td>\n",
       "      <td>20.1</td>\n",
       "      <td>29.9</td>\n",
       "      <td>8.3</td>\n",
       "      <td>...</td>\n",
       "      <td>21.7</td>\n",
       "      <td>17.4</td>\n",
       "      <td>35.2</td>\n",
       "      <td>14.3</td>\n",
       "      <td>17.2</td>\n",
       "      <td>20.4</td>\n",
       "      <td>41.3</td>\n",
       "      <td>33.2</td>\n",
       "      <td>22.6</td>\n",
       "      <td>19.5</td>\n",
       "    </tr>\n",
       "    <tr>\n",
       "      <td>3</td>\n",
       "      <td>13.5</td>\n",
       "      <td>24.4</td>\n",
       "      <td>28.4</td>\n",
       "      <td>17.2</td>\n",
       "      <td>19.3</td>\n",
       "      <td>17.1</td>\n",
       "      <td>15.2</td>\n",
       "      <td>13.8</td>\n",
       "      <td>21.0</td>\n",
       "      <td>22.9</td>\n",
       "      <td>...</td>\n",
       "      <td>19.9</td>\n",
       "      <td>20.1</td>\n",
       "      <td>22.6</td>\n",
       "      <td>22.0</td>\n",
       "      <td>23.3</td>\n",
       "      <td>19.3</td>\n",
       "      <td>20.3</td>\n",
       "      <td>22.9</td>\n",
       "      <td>14.0</td>\n",
       "      <td>23.6</td>\n",
       "    </tr>\n",
       "    <tr>\n",
       "      <td>4</td>\n",
       "      <td>27.9</td>\n",
       "      <td>18.4</td>\n",
       "      <td>16.3</td>\n",
       "      <td>22.1</td>\n",
       "      <td>17.1</td>\n",
       "      <td>42.3</td>\n",
       "      <td>13.3</td>\n",
       "      <td>15.6</td>\n",
       "      <td>23.9</td>\n",
       "      <td>29.0</td>\n",
       "      <td>...</td>\n",
       "      <td>37.3</td>\n",
       "      <td>13.8</td>\n",
       "      <td>21.9</td>\n",
       "      <td>29.1</td>\n",
       "      <td>31.6</td>\n",
       "      <td>22.6</td>\n",
       "      <td>20.3</td>\n",
       "      <td>8.8</td>\n",
       "      <td>18.2</td>\n",
       "      <td>50.0</td>\n",
       "    </tr>\n",
       "  </tbody>\n",
       "</table>\n",
       "<p>5 rows × 200 columns</p>\n",
       "</div>"
      ],
      "text/plain": [
       "    0     1     2     3     4     5     6     7     8     9    ...   190  \\\n",
       "0  17.5  18.3  28.5  15.0  31.7   7.0  15.0  30.8  21.2   8.8  ...  21.9   \n",
       "1  17.1  19.3  16.1  18.9  15.1  23.6  22.5  27.9  22.5  41.3  ...  27.5   \n",
       "2  21.8  15.0  24.4  22.6  21.7  48.3  17.4  20.1  29.9   8.3  ...  21.7   \n",
       "3  13.5  24.4  28.4  17.2  19.3  17.1  15.2  13.8  21.0  22.9  ...  19.9   \n",
       "4  27.9  18.4  16.3  22.1  17.1  42.3  13.3  15.6  23.9  29.0  ...  37.3   \n",
       "\n",
       "    191   192   193   194   195   196   197   198   199  \n",
       "0  20.7  18.0  10.2  33.2  19.7  21.4  23.9  18.6  20.5  \n",
       "1  19.1  23.7  13.5  50.0  18.0  19.1  35.4  18.5  12.5  \n",
       "2  17.4  35.2  14.3  17.2  20.4  41.3  33.2  22.6  19.5  \n",
       "3  20.1  22.6  22.0  23.3  19.3  20.3  22.9  14.0  23.6  \n",
       "4  13.8  21.9  29.1  31.6  22.6  20.3   8.8  18.2  50.0  \n",
       "\n",
       "[5 rows x 200 columns]"
      ]
     },
     "execution_count": 24,
     "metadata": {},
     "output_type": "execute_result"
    }
   ],
   "source": [
    "ys.head()"
   ]
  },
  {
   "cell_type": "code",
   "execution_count": 25,
   "metadata": {},
   "outputs": [
    {
     "data": {
      "text/html": [
       "<div>\n",
       "<style scoped>\n",
       "    .dataframe tbody tr th:only-of-type {\n",
       "        vertical-align: middle;\n",
       "    }\n",
       "\n",
       "    .dataframe tbody tr th {\n",
       "        vertical-align: top;\n",
       "    }\n",
       "\n",
       "    .dataframe thead th {\n",
       "        text-align: right;\n",
       "    }\n",
       "</style>\n",
       "<table border=\"1\" class=\"dataframe\">\n",
       "  <thead>\n",
       "    <tr style=\"text-align: right;\">\n",
       "      <th></th>\n",
       "      <th>0</th>\n",
       "      <th>1</th>\n",
       "      <th>2</th>\n",
       "      <th>3</th>\n",
       "      <th>4</th>\n",
       "      <th>5</th>\n",
       "      <th>6</th>\n",
       "      <th>7</th>\n",
       "      <th>8</th>\n",
       "      <th>9</th>\n",
       "      <th>...</th>\n",
       "      <th>190</th>\n",
       "      <th>191</th>\n",
       "      <th>192</th>\n",
       "      <th>193</th>\n",
       "      <th>194</th>\n",
       "      <th>195</th>\n",
       "      <th>196</th>\n",
       "      <th>197</th>\n",
       "      <th>198</th>\n",
       "      <th>199</th>\n",
       "    </tr>\n",
       "  </thead>\n",
       "  <tbody>\n",
       "    <tr>\n",
       "      <td>0</td>\n",
       "      <td>19.086043</td>\n",
       "      <td>20.775041</td>\n",
       "      <td>32.662159</td>\n",
       "      <td>27.347059</td>\n",
       "      <td>33.432155</td>\n",
       "      <td>9.001761</td>\n",
       "      <td>20.030982</td>\n",
       "      <td>28.690798</td>\n",
       "      <td>20.555787</td>\n",
       "      <td>8.942408</td>\n",
       "      <td>...</td>\n",
       "      <td>45.602515</td>\n",
       "      <td>21.945659</td>\n",
       "      <td>16.681802</td>\n",
       "      <td>14.369645</td>\n",
       "      <td>34.708164</td>\n",
       "      <td>19.911770</td>\n",
       "      <td>19.250785</td>\n",
       "      <td>26.258703</td>\n",
       "      <td>18.392011</td>\n",
       "      <td>20.915625</td>\n",
       "    </tr>\n",
       "    <tr>\n",
       "      <td>1</td>\n",
       "      <td>18.568518</td>\n",
       "      <td>19.923297</td>\n",
       "      <td>18.932132</td>\n",
       "      <td>17.107522</td>\n",
       "      <td>14.266230</td>\n",
       "      <td>24.135877</td>\n",
       "      <td>20.202173</td>\n",
       "      <td>30.432826</td>\n",
       "      <td>19.002506</td>\n",
       "      <td>37.307498</td>\n",
       "      <td>...</td>\n",
       "      <td>15.528705</td>\n",
       "      <td>21.573855</td>\n",
       "      <td>23.874679</td>\n",
       "      <td>13.465219</td>\n",
       "      <td>48.011769</td>\n",
       "      <td>17.491779</td>\n",
       "      <td>21.264077</td>\n",
       "      <td>35.055494</td>\n",
       "      <td>17.768116</td>\n",
       "      <td>14.787413</td>\n",
       "    </tr>\n",
       "    <tr>\n",
       "      <td>2</td>\n",
       "      <td>19.809422</td>\n",
       "      <td>32.932002</td>\n",
       "      <td>22.991487</td>\n",
       "      <td>23.752759</td>\n",
       "      <td>20.598338</td>\n",
       "      <td>44.497664</td>\n",
       "      <td>19.672780</td>\n",
       "      <td>19.524344</td>\n",
       "      <td>28.380861</td>\n",
       "      <td>8.462188</td>\n",
       "      <td>...</td>\n",
       "      <td>21.248748</td>\n",
       "      <td>19.696959</td>\n",
       "      <td>44.722984</td>\n",
       "      <td>16.444413</td>\n",
       "      <td>18.726456</td>\n",
       "      <td>20.147961</td>\n",
       "      <td>38.258043</td>\n",
       "      <td>33.436345</td>\n",
       "      <td>22.443509</td>\n",
       "      <td>20.509242</td>\n",
       "    </tr>\n",
       "    <tr>\n",
       "      <td>3</td>\n",
       "      <td>17.671078</td>\n",
       "      <td>23.916499</td>\n",
       "      <td>25.919748</td>\n",
       "      <td>19.409376</td>\n",
       "      <td>20.178503</td>\n",
       "      <td>17.916191</td>\n",
       "      <td>14.835005</td>\n",
       "      <td>14.725457</td>\n",
       "      <td>21.853383</td>\n",
       "      <td>23.238445</td>\n",
       "      <td>...</td>\n",
       "      <td>17.671723</td>\n",
       "      <td>18.987953</td>\n",
       "      <td>22.156860</td>\n",
       "      <td>22.247468</td>\n",
       "      <td>27.012871</td>\n",
       "      <td>20.511799</td>\n",
       "      <td>22.881815</td>\n",
       "      <td>20.780752</td>\n",
       "      <td>13.975789</td>\n",
       "      <td>24.301032</td>\n",
       "    </tr>\n",
       "    <tr>\n",
       "      <td>4</td>\n",
       "      <td>27.970411</td>\n",
       "      <td>16.878918</td>\n",
       "      <td>15.371155</td>\n",
       "      <td>23.775365</td>\n",
       "      <td>19.159630</td>\n",
       "      <td>47.095129</td>\n",
       "      <td>13.187261</td>\n",
       "      <td>15.921431</td>\n",
       "      <td>27.086741</td>\n",
       "      <td>33.032481</td>\n",
       "      <td>...</td>\n",
       "      <td>33.817844</td>\n",
       "      <td>16.624787</td>\n",
       "      <td>44.027642</td>\n",
       "      <td>25.407663</td>\n",
       "      <td>30.277132</td>\n",
       "      <td>22.647445</td>\n",
       "      <td>21.141607</td>\n",
       "      <td>7.861236</td>\n",
       "      <td>19.801784</td>\n",
       "      <td>39.471112</td>\n",
       "    </tr>\n",
       "  </tbody>\n",
       "</table>\n",
       "<p>5 rows × 200 columns</p>\n",
       "</div>"
      ],
      "text/plain": [
       "         0          1          2          3          4          5    \\\n",
       "0  19.086043  20.775041  32.662159  27.347059  33.432155   9.001761   \n",
       "1  18.568518  19.923297  18.932132  17.107522  14.266230  24.135877   \n",
       "2  19.809422  32.932002  22.991487  23.752759  20.598338  44.497664   \n",
       "3  17.671078  23.916499  25.919748  19.409376  20.178503  17.916191   \n",
       "4  27.970411  16.878918  15.371155  23.775365  19.159630  47.095129   \n",
       "\n",
       "         6          7          8          9    ...        190        191  \\\n",
       "0  20.030982  28.690798  20.555787   8.942408  ...  45.602515  21.945659   \n",
       "1  20.202173  30.432826  19.002506  37.307498  ...  15.528705  21.573855   \n",
       "2  19.672780  19.524344  28.380861   8.462188  ...  21.248748  19.696959   \n",
       "3  14.835005  14.725457  21.853383  23.238445  ...  17.671723  18.987953   \n",
       "4  13.187261  15.921431  27.086741  33.032481  ...  33.817844  16.624787   \n",
       "\n",
       "         192        193        194        195        196        197  \\\n",
       "0  16.681802  14.369645  34.708164  19.911770  19.250785  26.258703   \n",
       "1  23.874679  13.465219  48.011769  17.491779  21.264077  35.055494   \n",
       "2  44.722984  16.444413  18.726456  20.147961  38.258043  33.436345   \n",
       "3  22.156860  22.247468  27.012871  20.511799  22.881815  20.780752   \n",
       "4  44.027642  25.407663  30.277132  22.647445  21.141607   7.861236   \n",
       "\n",
       "         198        199  \n",
       "0  18.392011  20.915625  \n",
       "1  17.768116  14.787413  \n",
       "2  22.443509  20.509242  \n",
       "3  13.975789  24.301032  \n",
       "4  19.801784  39.471112  \n",
       "\n",
       "[5 rows x 200 columns]"
      ]
     },
     "execution_count": 25,
     "metadata": {},
     "output_type": "execute_result"
    }
   ],
   "source": [
    "gb.head()"
   ]
  },
  {
   "cell_type": "code",
   "execution_count": 26,
   "metadata": {},
   "outputs": [],
   "source": [
    "from sklearn.metrics import r2_score\n",
    "r2 = []\n",
    "for i in range(len(gb.columns)):\n",
    "    r2.append(r2_score(ys[i], gb[i]))"
   ]
  },
  {
   "cell_type": "code",
   "execution_count": 27,
   "metadata": {},
   "outputs": [
    {
     "name": "stdout",
     "output_type": "stream",
     "text": [
      "Mean Square Error:  9.74780702292435\n",
      "Test Variance Score:  0.8786720728965828\n"
     ]
    }
   ],
   "source": [
    "sum = 0\n",
    "for i in r2:\n",
    "    sum += i\n",
    "print(\"Mean Square Error: \", gb2.mean()[0])\n",
    "print(\"Test Variance Score: \", sum/len(r2))"
   ]
  },
  {
   "cell_type": "markdown",
   "metadata": {},
   "source": [
    "**Exercise 8** Now compute feature importance using the method we've developed in previous labs. I have two loops here. One is that I rerun train_test_split 50 times as you can see from above this makes a difference. Then I also permute each feature 100 times. Test your code with much smaller numbers."
   ]
  },
  {
   "cell_type": "code",
   "execution_count": 30,
   "metadata": {},
   "outputs": [
    {
     "data": {
      "text/html": [
       "<div>\n",
       "<style scoped>\n",
       "    .dataframe tbody tr th:only-of-type {\n",
       "        vertical-align: middle;\n",
       "    }\n",
       "\n",
       "    .dataframe tbody tr th {\n",
       "        vertical-align: top;\n",
       "    }\n",
       "\n",
       "    .dataframe thead th {\n",
       "        text-align: right;\n",
       "    }\n",
       "</style>\n",
       "<table border=\"1\" class=\"dataframe\">\n",
       "  <thead>\n",
       "    <tr style=\"text-align: right;\">\n",
       "      <th></th>\n",
       "      <th>CRIM</th>\n",
       "      <th>ZN</th>\n",
       "      <th>INDUS</th>\n",
       "      <th>CHAS</th>\n",
       "      <th>NOX</th>\n",
       "      <th>RM</th>\n",
       "      <th>AGE</th>\n",
       "      <th>DIS</th>\n",
       "      <th>RAD</th>\n",
       "      <th>TAX</th>\n",
       "      <th>PTRATIO</th>\n",
       "      <th>B</th>\n",
       "      <th>LSTAT</th>\n",
       "    </tr>\n",
       "  </thead>\n",
       "  <tbody>\n",
       "    <tr>\n",
       "      <td>0</td>\n",
       "      <td>9.193180</td>\n",
       "      <td>8.028808</td>\n",
       "      <td>8.092374</td>\n",
       "      <td>8.115260</td>\n",
       "      <td>8.531025</td>\n",
       "      <td>10.434782</td>\n",
       "      <td>7.257673</td>\n",
       "      <td>8.621556</td>\n",
       "      <td>8.190826</td>\n",
       "      <td>8.564397</td>\n",
       "      <td>8.831632</td>\n",
       "      <td>10.568751</td>\n",
       "      <td>17.801014</td>\n",
       "    </tr>\n",
       "    <tr>\n",
       "      <td>1</td>\n",
       "      <td>15.570545</td>\n",
       "      <td>19.225992</td>\n",
       "      <td>19.523587</td>\n",
       "      <td>19.026854</td>\n",
       "      <td>19.982604</td>\n",
       "      <td>19.412684</td>\n",
       "      <td>19.227216</td>\n",
       "      <td>18.378906</td>\n",
       "      <td>19.171513</td>\n",
       "      <td>18.991553</td>\n",
       "      <td>23.260748</td>\n",
       "      <td>14.532684</td>\n",
       "      <td>30.240799</td>\n",
       "    </tr>\n",
       "    <tr>\n",
       "      <td>2</td>\n",
       "      <td>23.807312</td>\n",
       "      <td>22.927909</td>\n",
       "      <td>22.322833</td>\n",
       "      <td>23.851036</td>\n",
       "      <td>24.935247</td>\n",
       "      <td>11.157059</td>\n",
       "      <td>22.576945</td>\n",
       "      <td>8.433350</td>\n",
       "      <td>22.421660</td>\n",
       "      <td>24.544193</td>\n",
       "      <td>20.910475</td>\n",
       "      <td>21.842585</td>\n",
       "      <td>34.368237</td>\n",
       "    </tr>\n",
       "    <tr>\n",
       "      <td>3</td>\n",
       "      <td>10.820341</td>\n",
       "      <td>10.614135</td>\n",
       "      <td>10.590218</td>\n",
       "      <td>10.335012</td>\n",
       "      <td>11.937606</td>\n",
       "      <td>20.569161</td>\n",
       "      <td>10.761392</td>\n",
       "      <td>14.205016</td>\n",
       "      <td>11.021088</td>\n",
       "      <td>11.185934</td>\n",
       "      <td>8.474175</td>\n",
       "      <td>10.725025</td>\n",
       "      <td>27.795435</td>\n",
       "    </tr>\n",
       "    <tr>\n",
       "      <td>4</td>\n",
       "      <td>6.687099</td>\n",
       "      <td>5.693013</td>\n",
       "      <td>6.047145</td>\n",
       "      <td>5.799621</td>\n",
       "      <td>7.858243</td>\n",
       "      <td>14.263353</td>\n",
       "      <td>6.576165</td>\n",
       "      <td>7.666153</td>\n",
       "      <td>6.004824</td>\n",
       "      <td>6.240231</td>\n",
       "      <td>6.119884</td>\n",
       "      <td>7.102066</td>\n",
       "      <td>7.572966</td>\n",
       "    </tr>\n",
       "  </tbody>\n",
       "</table>\n",
       "</div>"
      ],
      "text/plain": [
       "        CRIM         ZN      INDUS       CHAS        NOX         RM  \\\n",
       "0   9.193180   8.028808   8.092374   8.115260   8.531025  10.434782   \n",
       "1  15.570545  19.225992  19.523587  19.026854  19.982604  19.412684   \n",
       "2  23.807312  22.927909  22.322833  23.851036  24.935247  11.157059   \n",
       "3  10.820341  10.614135  10.590218  10.335012  11.937606  20.569161   \n",
       "4   6.687099   5.693013   6.047145   5.799621   7.858243  14.263353   \n",
       "\n",
       "         AGE        DIS        RAD        TAX    PTRATIO          B      LSTAT  \n",
       "0   7.257673   8.621556   8.190826   8.564397   8.831632  10.568751  17.801014  \n",
       "1  19.227216  18.378906  19.171513  18.991553  23.260748  14.532684  30.240799  \n",
       "2  22.576945   8.433350  22.421660  24.544193  20.910475  21.842585  34.368237  \n",
       "3  10.761392  14.205016  11.021088  11.185934   8.474175  10.725025  27.795435  \n",
       "4   6.576165   7.666153   6.004824   6.240231   6.119884   7.102066   7.572966  "
      ]
     },
     "execution_count": 30,
     "metadata": {},
     "output_type": "execute_result"
    }
   ],
   "source": [
    "num_iterations = 20\n",
    "experiments = {}\n",
    "df_list = []\n",
    "\n",
    "for iteration in range(num_iterations):\n",
    "    Xtrain, Xtest, ytrain, ytest = train_test_split(X,y,test_size=0.10,shuffle=True)\n",
    " \n",
    "    models_train = copy.deepcopy(models)\n",
    "    \n",
    "    Xtrain_copy = Xtrain.copy()\n",
    "    \n",
    "    model = models_train[1] #Gradient Boosting 2\n",
    "\n",
    "    for col in Xtrain_copy.columns:\n",
    "        mse = 0\n",
    "        for i in range(10):\n",
    "            Xtrain_copy = Xtrain.copy()\n",
    "            Xtrain_copy[col] = np.random.permutation(Xtrain_copy[col])\n",
    "            m = model[1].fit(Xtrain_copy, ytrain)\n",
    "            mse += mean_squared_error(ytest, m.predict(Xtest))\n",
    "        experiments[col] = [mse/10]\n",
    "\n",
    "    temp = pd.DataFrame(experiments)\n",
    "    df_list.append(temp)\n",
    "    \n",
    "a = pd.concat(df_list)\n",
    "a = a.reset_index(drop=True)\n",
    "a.head()"
   ]
  },
  {
   "cell_type": "code",
   "execution_count": 31,
   "metadata": {},
   "outputs": [
    {
     "data": {
      "text/plain": [
       "CHAS       0.084533\n",
       "ZN         0.088264\n",
       "B          0.098601\n",
       "RAD        0.100989\n",
       "INDUS      0.107237\n",
       "CRIM       0.117487\n",
       "AGE        0.119132\n",
       "PTRATIO    0.131354\n",
       "TAX        0.168505\n",
       "DIS        0.273435\n",
       "NOX        0.278164\n",
       "RM         0.683283\n",
       "LSTAT      1.147395\n",
       "dtype: float64"
      ]
     },
     "metadata": {},
     "output_type": "display_data"
    },
    {
     "data": {
      "image/png": "[encoded data removed]",
      "text/plain": [
       "<Figure size 432x288 with 1 Axes>"
      ]
     },
     "metadata": {
      "needs_background": "light"
     },
     "output_type": "display_data"
    }
   ],
   "source": [
    "percent_diff_score = (a.mean(axis=0).sort_values() - gb2.mean()[0])/gb2.mean()[0]\n",
    "display(percent_diff_score)\n",
    "percent_diff_score_data = pd.DataFrame(percent_diff_score, columns=[\"Scores\"])\n",
    "percent_diff_score_data.plot.bar();"
   ]
  },
  {
   "cell_type": "markdown",
   "metadata": {},
   "source": [
    "After running train-test-split 20 times, permuting each column 10 times, and retraining each training set, we see that LSTAT, RM, and NOX appear to be the 3 best features. However, we will replace NOX with DIS, since the later code reveals DIS is actually the third best feature."
   ]
  },
  {
   "cell_type": "code",
   "execution_count": 33,
   "metadata": {},
   "outputs": [],
   "source": [
    "#ALL VARIABLES GB2\n",
    "\n",
    "num_iterations = 30\n",
    "predictions_all_var = []\n",
    "ytests_all_var = []\n",
    "mses_all_var = []\n",
    "\n",
    "for iteration in range(num_iterations):\n",
    "    Xtrain, Xtest, ytrain, ytest = train_test_split(X,y,test_size=0.10,shuffle=True)\n",
    "    models_train = copy.deepcopy(models)\n",
    "    \n",
    "    model = models_train[1]\n",
    "    \n",
    "    m = model[1].fit(Xtrain, ytrain)\n",
    "    predictions_all_var.append(m.predict(Xtest))\n",
    "    ytests_all_var.append(ytest)\n",
    "    mses_all_var.append(mean_squared_error(ytest, m.predict(Xtest)))\n",
    "    \n",
    "\n",
    "all_var_df = pd.DataFrame(mses_all_var, columns=[\"All Features\"])"
   ]
  },
  {
   "cell_type": "code",
   "execution_count": 34,
   "metadata": {},
   "outputs": [],
   "source": [
    "#SUBSET VARIABLES GB2\n",
    "\n",
    "num_iterations = 30\n",
    "predictions_subset = []\n",
    "ytests_subset = []\n",
    "mses_subset = []\n",
    "\n",
    "for iteration in range(num_iterations):\n",
    "    Xtrain, Xtest, ytrain, ytest = train_test_split(X[[\"DIS\", \"RM\", \"LSTAT\"]],y,test_size=0.10,shuffle=True)\n",
    "    models_train = copy.deepcopy(models)\n",
    "    \n",
    "    model = models_train[1]\n",
    "    \n",
    "    m = model[1].fit(Xtrain, ytrain)\n",
    "    predictions_subset.append(m.predict(Xtest))\n",
    "    ytests_subset.append(ytest)\n",
    "    mses_subset.append(mean_squared_error(ytest, m.predict(Xtest)))\n",
    "    \n",
    "\n",
    "subset_df = pd.DataFrame(mses_subset, columns=[\"Subset Features\"])"
   ]
  },
  {
   "cell_type": "code",
   "execution_count": null,
   "metadata": {},
   "outputs": [],
   "source": []
  },
  {
   "cell_type": "code",
   "execution_count": 36,
   "metadata": {},
   "outputs": [
    {
     "data": {
      "text/html": [
       "<div>\n",
       "<style scoped>\n",
       "    .dataframe tbody tr th:only-of-type {\n",
       "        vertical-align: middle;\n",
       "    }\n",
       "\n",
       "    .dataframe tbody tr th {\n",
       "        vertical-align: top;\n",
       "    }\n",
       "\n",
       "    .dataframe thead th {\n",
       "        text-align: right;\n",
       "    }\n",
       "</style>\n",
       "<table border=\"1\" class=\"dataframe\">\n",
       "  <thead>\n",
       "    <tr style=\"text-align: right;\">\n",
       "      <th></th>\n",
       "      <th>All Features</th>\n",
       "      <th>Subset Features</th>\n",
       "    </tr>\n",
       "  </thead>\n",
       "  <tbody>\n",
       "    <tr>\n",
       "      <td>count</td>\n",
       "      <td>30.000000</td>\n",
       "      <td>30.000000</td>\n",
       "    </tr>\n",
       "    <tr>\n",
       "      <td>mean</td>\n",
       "      <td>11.053123</td>\n",
       "      <td>18.302574</td>\n",
       "    </tr>\n",
       "    <tr>\n",
       "      <td>std</td>\n",
       "      <td>6.996503</td>\n",
       "      <td>8.013504</td>\n",
       "    </tr>\n",
       "    <tr>\n",
       "      <td>min</td>\n",
       "      <td>4.518106</td>\n",
       "      <td>8.023697</td>\n",
       "    </tr>\n",
       "    <tr>\n",
       "      <td>25%</td>\n",
       "      <td>7.202934</td>\n",
       "      <td>13.182885</td>\n",
       "    </tr>\n",
       "    <tr>\n",
       "      <td>50%</td>\n",
       "      <td>9.388140</td>\n",
       "      <td>16.025886</td>\n",
       "    </tr>\n",
       "    <tr>\n",
       "      <td>75%</td>\n",
       "      <td>12.325122</td>\n",
       "      <td>23.009161</td>\n",
       "    </tr>\n",
       "    <tr>\n",
       "      <td>max</td>\n",
       "      <td>40.723584</td>\n",
       "      <td>39.727169</td>\n",
       "    </tr>\n",
       "  </tbody>\n",
       "</table>\n",
       "</div>"
      ],
      "text/plain": [
       "       All Features  Subset Features\n",
       "count     30.000000        30.000000\n",
       "mean      11.053123        18.302574\n",
       "std        6.996503         8.013504\n",
       "min        4.518106         8.023697\n",
       "25%        7.202934        13.182885\n",
       "50%        9.388140        16.025886\n",
       "75%       12.325122        23.009161\n",
       "max       40.723584        39.727169"
      ]
     },
     "execution_count": 36,
     "metadata": {},
     "output_type": "execute_result"
    }
   ],
   "source": [
    "errors = all_var_df.join(subset_df, how=\"left\")\n",
    "errors.describe()"
   ]
  },
  {
   "cell_type": "markdown",
   "metadata": {},
   "source": [
    "In the subset features, we see a higher mean MSE and standard deviation of the MSE's after 30 iterations. At each quantile, the subset features yielded sligher higher MSE value estimates. Overall however, the subset features performs nearly just as well as using all features. "
   ]
  },
  {
   "cell_type": "markdown",
   "metadata": {},
   "source": [
    "**Exercise 9** Now what if I told you that Random Forest and other classifiers have built-in measures for feature importance. Run the following code and compare the feature importance scores. The calculation of these needs to be saved for another time and place, but the trees themselves contain information about feature importance based on the location in the tree a feature is most often selected."
   ]
  },
  {
   "cell_type": "code",
   "execution_count": 37,
   "metadata": {
    "lines_to_next_cell": 0
   },
   "outputs": [
    {
     "data": {
      "text/plain": [
       "<matplotlib.axes._subplots.AxesSubplot at 0x7f2a2c588710>"
      ]
     },
     "execution_count": 37,
     "metadata": {},
     "output_type": "execute_result"
    },
    {
     "data": {
      "image/png": "[encoded data removed]",
      "text/plain": [
       "<Figure size 432x288 with 1 Axes>"
      ]
     },
     "metadata": {
      "needs_background": "light"
     },
     "output_type": "display_data"
    }
   ],
   "source": [
    "forest = RandomForestRegressor(n_estimators=500)\n",
    "forest.fit(X,y)\n",
    "importances = forest.feature_importances_\n",
    "importances = pd.DataFrame({'Feature':X.columns,'Importance':importances})\n",
    "importances.sort_values(by='Importance').set_index('Feature').plot.bar()"
   ]
  },
  {
   "cell_type": "markdown",
   "metadata": {},
   "source": [
    "Scikit-learn best features testing reveals that RM, LSTAT, and DIS are the best features. "
   ]
  },
  {
   "cell_type": "markdown",
   "metadata": {},
   "source": [
    "**Implementation from scratch portion**: We are now going to implement two ensemble learning methods from scratch and see how our implementations compare to sklearn."
   ]
  },
  {
   "cell_type": "markdown",
   "metadata": {},
   "source": [
    "**Exercise 10** Implement a simple random forest classifier and compare the performance to one of the random forest classifiers above."
   ]
  },
  {
   "cell_type": "code",
   "execution_count": 38,
   "metadata": {},
   "outputs": [],
   "source": [
    "from sklearn.tree import DecisionTreeRegressor\n",
    "\n",
    "def boostrap_sample(X, y, frac=0.3):\n",
    "    Xy = X.copy()\n",
    "    Xy[y.name] = y\n",
    "    Xy_sample = Xy.sample(frac=frac,replace=True)\n",
    "    \n",
    "    return Xy.drop(y.name,axis=1),Xy[y.name]\n",
    "\n",
    "\n",
    "def make_tree(X, y, m=None):\n",
    "    if m is None:\n",
    "        m = int(np.sqrt(X.shape[1]))\n",
    "        \n",
    "    nums = np.random.rand(X.shape[1])\n",
    "    vs = pd.DataFrame({\"num\":nums})\n",
    "    vs = vs.sort_values(by='num')\n",
    "    features = vs.index\n",
    "    Xf = X.iloc[:,features]\n",
    "    \n",
    "    return features, DecisionTreeRegressor(random_state=0).fit(Xf, y)\n",
    "\n",
    "\n",
    "def make_trees(X, y, ntrees=100, m=None, frac=0.3):\n",
    "    trees = []\n",
    "    for i in range(ntrees):\n",
    "        Xsample, ysample = boostrap_sample(X, y, frac=frac)\n",
    "        trees.append(make_tree(Xsample, ysample, m=m))\n",
    "        \n",
    "    return trees\n",
    "\n",
    "\n",
    "def make_prediction(trees, X):\n",
    "    predictions = []\n",
    "    tree_predictions = []\n",
    "    for j in range(len(trees)):\n",
    "        features = trees[j][0]\n",
    "        tree = trees[j][1]\n",
    "        tree_predictions.append(tree.predict(X.iloc[:,features])) \n",
    "    return tree_predictions\n",
    "    \n",
    "    \n",
    "Xtrain, Xtest, ytrain, ytest = train_test_split(X, y, test_size=0.10, shuffle=True)\n",
    "mses = []\n",
    "for i in range(20):\n",
    "    temp = []\n",
    "    trees = make_trees(Xtrain, ytrain)\n",
    "    predictions = make_prediction(trees, Xtest)\n",
    "    for i in range(len(predictions)):\n",
    "        temp.append(mean_squared_error(ytest, predictions[i]))\n",
    "    mses.append(np.mean(temp))\n"
   ]
  },
  {
   "cell_type": "code",
   "execution_count": 39,
   "metadata": {},
   "outputs": [
    {
     "data": {
      "text/html": [
       "<div>\n",
       "<style scoped>\n",
       "    .dataframe tbody tr th:only-of-type {\n",
       "        vertical-align: middle;\n",
       "    }\n",
       "\n",
       "    .dataframe tbody tr th {\n",
       "        vertical-align: top;\n",
       "    }\n",
       "\n",
       "    .dataframe thead th {\n",
       "        text-align: right;\n",
       "    }\n",
       "</style>\n",
       "<table border=\"1\" class=\"dataframe\">\n",
       "  <thead>\n",
       "    <tr style=\"text-align: right;\">\n",
       "      <th></th>\n",
       "      <th>Our RF</th>\n",
       "    </tr>\n",
       "  </thead>\n",
       "  <tbody>\n",
       "    <tr>\n",
       "      <td>0</td>\n",
       "      <td>21.659359</td>\n",
       "    </tr>\n",
       "    <tr>\n",
       "      <td>1</td>\n",
       "      <td>21.874916</td>\n",
       "    </tr>\n",
       "    <tr>\n",
       "      <td>2</td>\n",
       "      <td>21.181827</td>\n",
       "    </tr>\n",
       "    <tr>\n",
       "      <td>3</td>\n",
       "      <td>21.715788</td>\n",
       "    </tr>\n",
       "    <tr>\n",
       "      <td>4</td>\n",
       "      <td>21.824492</td>\n",
       "    </tr>\n",
       "  </tbody>\n",
       "</table>\n",
       "</div>"
      ],
      "text/plain": [
       "      Our RF\n",
       "0  21.659359\n",
       "1  21.874916\n",
       "2  21.181827\n",
       "3  21.715788\n",
       "4  21.824492"
      ]
     },
     "execution_count": 39,
     "metadata": {},
     "output_type": "execute_result"
    }
   ],
   "source": [
    "our_mses = pd.DataFrame(mses, columns=[\"Our RF\"])\n",
    "our_mses.head()"
   ]
  },
  {
   "cell_type": "code",
   "execution_count": 40,
   "metadata": {},
   "outputs": [
    {
     "data": {
      "text/html": [
       "<div>\n",
       "<style scoped>\n",
       "    .dataframe tbody tr th:only-of-type {\n",
       "        vertical-align: middle;\n",
       "    }\n",
       "\n",
       "    .dataframe tbody tr th {\n",
       "        vertical-align: top;\n",
       "    }\n",
       "\n",
       "    .dataframe thead th {\n",
       "        text-align: right;\n",
       "    }\n",
       "</style>\n",
       "<table border=\"1\" class=\"dataframe\">\n",
       "  <thead>\n",
       "    <tr style=\"text-align: right;\">\n",
       "      <th></th>\n",
       "      <th>RF 1</th>\n",
       "      <th>Our RF</th>\n",
       "    </tr>\n",
       "  </thead>\n",
       "  <tbody>\n",
       "    <tr>\n",
       "      <td>0</td>\n",
       "      <td>7.788218</td>\n",
       "      <td>21.659359</td>\n",
       "    </tr>\n",
       "    <tr>\n",
       "      <td>1</td>\n",
       "      <td>15.413025</td>\n",
       "      <td>21.874916</td>\n",
       "    </tr>\n",
       "    <tr>\n",
       "      <td>2</td>\n",
       "      <td>9.778086</td>\n",
       "      <td>21.181827</td>\n",
       "    </tr>\n",
       "    <tr>\n",
       "      <td>3</td>\n",
       "      <td>11.365300</td>\n",
       "      <td>21.715788</td>\n",
       "    </tr>\n",
       "    <tr>\n",
       "      <td>4</td>\n",
       "      <td>7.079514</td>\n",
       "      <td>21.824492</td>\n",
       "    </tr>\n",
       "  </tbody>\n",
       "</table>\n",
       "</div>"
      ],
      "text/plain": [
       "        RF 1     Our RF\n",
       "0   7.788218  21.659359\n",
       "1  15.413025  21.874916\n",
       "2   9.778086  21.181827\n",
       "3  11.365300  21.715788\n",
       "4   7.079514  21.824492"
      ]
     },
     "execution_count": 40,
     "metadata": {},
     "output_type": "execute_result"
    }
   ],
   "source": [
    "compare_rf_errors = rf1.join(our_mses, how=\"left\")\n",
    "compare_rf_errors.head()"
   ]
  },
  {
   "cell_type": "code",
   "execution_count": 41,
   "metadata": {},
   "outputs": [
    {
     "data": {
      "text/html": [
       "<div>\n",
       "<style scoped>\n",
       "    .dataframe tbody tr th:only-of-type {\n",
       "        vertical-align: middle;\n",
       "    }\n",
       "\n",
       "    .dataframe tbody tr th {\n",
       "        vertical-align: top;\n",
       "    }\n",
       "\n",
       "    .dataframe thead th {\n",
       "        text-align: right;\n",
       "    }\n",
       "</style>\n",
       "<table border=\"1\" class=\"dataframe\">\n",
       "  <thead>\n",
       "    <tr style=\"text-align: right;\">\n",
       "      <th></th>\n",
       "      <th>RF 1</th>\n",
       "      <th>Our RF</th>\n",
       "    </tr>\n",
       "  </thead>\n",
       "  <tbody>\n",
       "    <tr>\n",
       "      <td>count</td>\n",
       "      <td>200.000000</td>\n",
       "      <td>20.000000</td>\n",
       "    </tr>\n",
       "    <tr>\n",
       "      <td>mean</td>\n",
       "      <td>10.924009</td>\n",
       "      <td>21.657684</td>\n",
       "    </tr>\n",
       "    <tr>\n",
       "      <td>std</td>\n",
       "      <td>5.065647</td>\n",
       "      <td>0.221101</td>\n",
       "    </tr>\n",
       "    <tr>\n",
       "      <td>min</td>\n",
       "      <td>3.784835</td>\n",
       "      <td>21.181827</td>\n",
       "    </tr>\n",
       "    <tr>\n",
       "      <td>25%</td>\n",
       "      <td>7.354933</td>\n",
       "      <td>21.499527</td>\n",
       "    </tr>\n",
       "    <tr>\n",
       "      <td>50%</td>\n",
       "      <td>9.377936</td>\n",
       "      <td>21.687574</td>\n",
       "    </tr>\n",
       "    <tr>\n",
       "      <td>75%</td>\n",
       "      <td>13.440044</td>\n",
       "      <td>21.808270</td>\n",
       "    </tr>\n",
       "    <tr>\n",
       "      <td>max</td>\n",
       "      <td>31.849355</td>\n",
       "      <td>22.106139</td>\n",
       "    </tr>\n",
       "  </tbody>\n",
       "</table>\n",
       "</div>"
      ],
      "text/plain": [
       "             RF 1     Our RF\n",
       "count  200.000000  20.000000\n",
       "mean    10.924009  21.657684\n",
       "std      5.065647   0.221101\n",
       "min      3.784835  21.181827\n",
       "25%      7.354933  21.499527\n",
       "50%      9.377936  21.687574\n",
       "75%     13.440044  21.808270\n",
       "max     31.849355  22.106139"
      ]
     },
     "execution_count": 41,
     "metadata": {},
     "output_type": "execute_result"
    }
   ],
   "source": [
    "compare_rf_errors.describe()"
   ]
  },
  {
   "cell_type": "markdown",
   "metadata": {},
   "source": [
    "Our RF model gives much more precise scores in comparison to the scikit-learn random foresting model however, by the MSE values, our model is not as accurate. "
   ]
  },
  {
   "cell_type": "markdown",
   "metadata": {},
   "source": [
    "**Exercise 10** Implement gradient boosting from scratch using a mean squared error loss function. Compare the performance. I \"boosted\" 100 times. I've shown my validation graph. Every run is a little different, and it would definitely make this algorithm smarter if you stopped based on the validation graph."
   ]
  },
  {
   "cell_type": "code",
   "execution_count": 42,
   "metadata": {},
   "outputs": [],
   "source": [
    "def get_residuals(actual, predictions):\n",
    "    return actual - predictions\n",
    "   \n",
    "def make_tree(X, y, m=None):\n",
    "    Xresids = get_residuals(y, X[\"prediction\"])\n",
    "   \n",
    "    if m is None:\n",
    "        m = int(np.sqrt(X.shape[1]))\n",
    "       \n",
    "    nums = np.random.rand(X.shape[1])\n",
    "    vs = pd.DataFrame({\"num\":nums})\n",
    "    vs = vs.sort_values(by='num')\n",
    "    features = vs.index\n",
    "    Xf = X.iloc[:,features]\n",
    "   \n",
    "    return features, DecisionTreeRegressor(random_state=0).fit(Xf, Xresids)\n",
    " \n",
    "def make_trees(X, y, ntrees=1, m=None, frac=0.3):\n",
    "    trees = []\n",
    "    for i in range(ntrees):\n",
    "        trees.append(make_tree(X, y, m=m))\n",
    "       \n",
    "    return trees\n",
    " \n",
    "def make_prediction(trees, X):\n",
    "    predictions = []\n",
    "    tree_predictions = []\n",
    "    #for j in range(len(trees)):\n",
    "    features = trees[0]\n",
    "    tree = trees[1]\n",
    "    return tree.predict(X.iloc[:,features])\n",
    " "
   ]
  },
  {
   "cell_type": "code",
   "execution_count": 43,
   "metadata": {},
   "outputs": [
    {
     "data": {
      "text/plain": [
       "<matplotlib.axes._subplots.AxesSubplot at 0x7f2a2c5332e8>"
      ]
     },
     "execution_count": 43,
     "metadata": {},
     "output_type": "execute_result"
    },
    {
     "data": {
      "image/png": "[encoded data removed]",
      "text/plain": [
       "<Figure size 432x288 with 1 Axes>"
      ]
     },
     "metadata": {
      "needs_background": "light"
     },
     "output_type": "display_data"
    }
   ],
   "source": [
    "Xtrain, Xtest, ytrain, ytest = train_test_split(X, y, test_size=0.75, shuffle=True)\n",
    "Xtrain, Xval, ytrain, yval = train_test_split(Xtrain, ytrain, test_size=0.75, shuffle=True)\n",
    " \n",
    "Xtrain[\"prediction\"] = ytrain.mean()\n",
    "Xval[\"prediction\"] = yval.mean()\n",
    " \n",
    "mse_list = []\n",
    "tree_list = []\n",
    "for i in range(100):\n",
    "    tree = make_tree(Xtrain, ytrain)\n",
    "    tree_list.append(tree)\n",
    "    predictions = make_prediction(tree, Xtrain)\n",
    "    Xtrain[\"prediction\"] = Xtrain[\"prediction\"] + 0.1*predictions\n",
    "    valpredictions = make_prediction(tree, Xval)\n",
    "    Xval[\"prediction\"] = Xval[\"prediction\"] + 0.1*valpredictions\n",
    "    mse1 = mean_squared_error(yval, Xval[\"prediction\"])\n",
    "\n",
    "    mse_list.append(mse1)\n",
    "       \n",
    "pd.DataFrame(mse_list, columns=[\"Validation\"]).plot.line()"
   ]
  },
  {
   "cell_type": "code",
   "execution_count": 44,
   "metadata": {},
   "outputs": [
    {
     "data": {
      "text/plain": [
       "85.32527777008309"
      ]
     },
     "execution_count": 44,
     "metadata": {},
     "output_type": "execute_result"
    }
   ],
   "source": [
    "import warnings\n",
    "warnings.filterwarnings('ignore')\n",
    "\n",
    "minidx = pd.DataFrame(mse_list).idxmin()\n",
    "minidx[0]\n",
    " \n",
    "finaltree = tree_list[minidx[0]]\n",
    " \n",
    "Xtest[\"prediction\"] = ytest.mean()\n",
    "predictions = make_prediction(finaltree, Xtest)\n",
    "mean_squared_error(ytest, Xtest[\"prediction\"])"
   ]
  },
  {
   "cell_type": "code",
   "execution_count": null,
   "metadata": {},
   "outputs": [],
   "source": []
  }
 ],
 "metadata": {
  "jupytext": {
   "formats": "ipynb,md"
  },
  "kernelspec": {
   "display_name": "Python 3",
   "language": "python",
   "name": "python3"
  },
  "language_info": {
   "codemirror_mode": {
    "name": "ipython",
    "version": 3
   },
   "file_extension": ".py",
   "mimetype": "text/x-python",
   "name": "python",
   "nbconvert_exporter": "python",
   "pygments_lexer": "ipython3",
   "version": "3.7.3"
  }
 },
 "nbformat": 4,
 "nbformat_minor": 4
}
